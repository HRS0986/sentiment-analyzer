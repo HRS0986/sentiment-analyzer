{
 "cells": [
  {
   "cell_type": "code",
   "execution_count": 10,
   "id": "initial_id",
   "metadata": {
    "collapsed": true,
    "ExecuteTime": {
     "end_time": "2024-03-04T20:41:01.481223400Z",
     "start_time": "2024-03-04T20:41:01.461880900Z"
    }
   },
   "outputs": [],
   "source": [
    "import json\n",
    "import os\n",
    "from kaggle.api.kaggle_api_extended import KaggleApi\n",
    "import zipfile"
   ]
  },
  {
   "cell_type": "code",
   "outputs": [],
   "source": [
    "with open('./../kaggle.json', 'r') as config:\n",
    "    api_data = json.load(config)"
   ],
   "metadata": {
    "collapsed": false,
    "ExecuteTime": {
     "end_time": "2024-03-04T20:21:52.082883800Z",
     "start_time": "2024-03-04T20:21:52.048577100Z"
    }
   },
   "id": "5ff0b3d597957dfd",
   "execution_count": 3
  },
  {
   "cell_type": "code",
   "outputs": [],
   "source": [
    "os.environ[\"KAGGLE_USERNAME\"] = api_data['username']\n",
    "os.environ[\"KAGGLE_KEY\"] = api_data['key']"
   ],
   "metadata": {
    "collapsed": false,
    "ExecuteTime": {
     "end_time": "2024-03-04T20:26:44.438015300Z",
     "start_time": "2024-03-04T20:26:44.340527400Z"
    }
   },
   "id": "82044f23da792817",
   "execution_count": 5
  },
  {
   "cell_type": "code",
   "outputs": [],
   "source": [
    "api = KaggleApi()\n",
    "api.authenticate()\n",
    "api.dataset_download_files('dineshpiyasamara/sentiment-analysis-dataset', path=\"../datasets/\")"
   ],
   "metadata": {
    "collapsed": false,
    "ExecuteTime": {
     "end_time": "2024-03-04T20:34:02.379598900Z",
     "start_time": "2024-03-04T20:33:58.840418400Z"
    }
   },
   "id": "c8411a08390b397a",
   "execution_count": 8
  },
  {
   "cell_type": "code",
   "outputs": [],
   "source": [
    "with zipfile.ZipFile(\"./../datasets/sentiment-analysis-dataset.zip\", \"r\") as data_zip:\n",
    "    data_zip.extractall(\"./../datasets\")"
   ],
   "metadata": {
    "collapsed": false,
    "ExecuteTime": {
     "end_time": "2024-03-04T20:41:10.332208200Z",
     "start_time": "2024-03-04T20:41:10.305009400Z"
    }
   },
   "id": "517d8ea17057bbc3",
   "execution_count": 12
  },
  {
   "cell_type": "code",
   "outputs": [],
   "source": [],
   "metadata": {
    "collapsed": false
   },
   "id": "3c1827e0f0b1a010"
  }
 ],
 "metadata": {
  "kernelspec": {
   "display_name": "Python 3",
   "language": "python",
   "name": "python3"
  },
  "language_info": {
   "codemirror_mode": {
    "name": "ipython",
    "version": 2
   },
   "file_extension": ".py",
   "mimetype": "text/x-python",
   "name": "python",
   "nbconvert_exporter": "python",
   "pygments_lexer": "ipython2",
   "version": "2.7.6"
  }
 },
 "nbformat": 4,
 "nbformat_minor": 5
}

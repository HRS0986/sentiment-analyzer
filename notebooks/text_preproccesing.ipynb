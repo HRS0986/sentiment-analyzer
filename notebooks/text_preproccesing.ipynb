{
 "cells": [
  {
   "cell_type": "code",
   "execution_count": 6,
   "id": "initial_id",
   "metadata": {
    "collapsed": true,
    "ExecuteTime": {
     "end_time": "2024-03-07T17:01:28.733187500Z",
     "start_time": "2024-03-07T17:01:24.658793500Z"
    }
   },
   "outputs": [],
   "source": [
    "import numpy as np\n",
    "import pandas as pd\n",
    "import matplotlib.pyplot as plt\n",
    "import nltk"
   ]
  },
  {
   "cell_type": "code",
   "outputs": [
    {
     "data": {
      "text/plain": "        id  label                                              tweet\n0        1      0  #fingerprint #Pregnancy Test https://goo.gl/h1...\n1        2      0  Finally a transparant silicon case ^^ Thanks t...\n2        3      0  We love this! Would you go? #talk #makememorie...\n3        4      0  I'm wired I know I'm George I was made that wa...\n4        5      1  What amazing service! Apple won't even talk to...\n...    ...    ...                                                ...\n7915  7916      0  Live out loud #lol #liveoutloud #selfie #smile...\n7916  7917      0  We would like to wish you an amazing day! Make...\n7917  7918      0  Helping my lovely 90 year old neighbor with he...\n7918  7919      0  Finally got my #smart #pocket #wifi stay conne...\n7919  7920      0  Apple Barcelona!!! #Apple #Store #BCN #Barcelo...\n\n[7920 rows x 3 columns]",
      "text/html": "<div>\n<style scoped>\n    .dataframe tbody tr th:only-of-type {\n        vertical-align: middle;\n    }\n\n    .dataframe tbody tr th {\n        vertical-align: top;\n    }\n\n    .dataframe thead th {\n        text-align: right;\n    }\n</style>\n<table border=\"1\" class=\"dataframe\">\n  <thead>\n    <tr style=\"text-align: right;\">\n      <th></th>\n      <th>id</th>\n      <th>label</th>\n      <th>tweet</th>\n    </tr>\n  </thead>\n  <tbody>\n    <tr>\n      <th>0</th>\n      <td>1</td>\n      <td>0</td>\n      <td>#fingerprint #Pregnancy Test https://goo.gl/h1...</td>\n    </tr>\n    <tr>\n      <th>1</th>\n      <td>2</td>\n      <td>0</td>\n      <td>Finally a transparant silicon case ^^ Thanks t...</td>\n    </tr>\n    <tr>\n      <th>2</th>\n      <td>3</td>\n      <td>0</td>\n      <td>We love this! Would you go? #talk #makememorie...</td>\n    </tr>\n    <tr>\n      <th>3</th>\n      <td>4</td>\n      <td>0</td>\n      <td>I'm wired I know I'm George I was made that wa...</td>\n    </tr>\n    <tr>\n      <th>4</th>\n      <td>5</td>\n      <td>1</td>\n      <td>What amazing service! Apple won't even talk to...</td>\n    </tr>\n    <tr>\n      <th>...</th>\n      <td>...</td>\n      <td>...</td>\n      <td>...</td>\n    </tr>\n    <tr>\n      <th>7915</th>\n      <td>7916</td>\n      <td>0</td>\n      <td>Live out loud #lol #liveoutloud #selfie #smile...</td>\n    </tr>\n    <tr>\n      <th>7916</th>\n      <td>7917</td>\n      <td>0</td>\n      <td>We would like to wish you an amazing day! Make...</td>\n    </tr>\n    <tr>\n      <th>7917</th>\n      <td>7918</td>\n      <td>0</td>\n      <td>Helping my lovely 90 year old neighbor with he...</td>\n    </tr>\n    <tr>\n      <th>7918</th>\n      <td>7919</td>\n      <td>0</td>\n      <td>Finally got my #smart #pocket #wifi stay conne...</td>\n    </tr>\n    <tr>\n      <th>7919</th>\n      <td>7920</td>\n      <td>0</td>\n      <td>Apple Barcelona!!! #Apple #Store #BCN #Barcelo...</td>\n    </tr>\n  </tbody>\n</table>\n<p>7920 rows × 3 columns</p>\n</div>"
     },
     "execution_count": 7,
     "metadata": {},
     "output_type": "execute_result"
    }
   ],
   "source": [
    "data = pd.read_csv(\"./../datasets/sentiment_analysis.csv\")\n",
    "data"
   ],
   "metadata": {
    "collapsed": false,
    "ExecuteTime": {
     "end_time": "2024-03-07T17:01:28.892722Z",
     "start_time": "2024-03-07T17:01:28.653767800Z"
    }
   },
   "id": "d0c5069a0d12d438",
   "execution_count": 7
  },
  {
   "cell_type": "code",
   "outputs": [
    {
     "data": {
      "text/plain": "(7920, 3)"
     },
     "execution_count": 8,
     "metadata": {},
     "output_type": "execute_result"
    }
   ],
   "source": [
    "data.shape"
   ],
   "metadata": {
    "collapsed": false,
    "ExecuteTime": {
     "end_time": "2024-03-07T17:01:28.921755900Z",
     "start_time": "2024-03-07T17:01:28.771181800Z"
    }
   },
   "id": "d576617fceead5f6",
   "execution_count": 8
  },
  {
   "cell_type": "code",
   "outputs": [
    {
     "data": {
      "text/plain": "0"
     },
     "execution_count": 9,
     "metadata": {},
     "output_type": "execute_result"
    }
   ],
   "source": [
    "data.duplicated().sum()"
   ],
   "metadata": {
    "collapsed": false,
    "ExecuteTime": {
     "end_time": "2024-03-07T17:01:29.010271Z",
     "start_time": "2024-03-07T17:01:28.788193700Z"
    }
   },
   "id": "efac273ed6f4ea99",
   "execution_count": 9
  },
  {
   "cell_type": "code",
   "outputs": [
    {
     "data": {
      "text/plain": "id       0\nlabel    0\ntweet    0\ndtype: int64"
     },
     "execution_count": 10,
     "metadata": {},
     "output_type": "execute_result"
    }
   ],
   "source": [
    "data.isnull().sum()"
   ],
   "metadata": {
    "collapsed": false,
    "ExecuteTime": {
     "end_time": "2024-03-07T17:01:29.038793300Z",
     "start_time": "2024-03-07T17:01:28.832722400Z"
    }
   },
   "id": "76ad122cbc1c820c",
   "execution_count": 10
  },
  {
   "cell_type": "code",
   "outputs": [],
   "source": [
    "import re\n",
    "import string"
   ],
   "metadata": {
    "collapsed": false,
    "ExecuteTime": {
     "end_time": "2024-03-07T17:01:29.147336500Z",
     "start_time": "2024-03-07T17:01:28.862723400Z"
    }
   },
   "id": "990630353b56c87a",
   "execution_count": 11
  },
  {
   "cell_type": "code",
   "outputs": [],
   "source": [
    "def to_lowercase(text):\n",
    "    words = text.lower().split()\n",
    "    lower_text = \" \".join(words)\n",
    "    return lower_text\n",
    "    "
   ],
   "metadata": {
    "collapsed": false,
    "ExecuteTime": {
     "end_time": "2024-03-07T17:01:29.518958500Z",
     "start_time": "2024-03-07T17:01:28.877720800Z"
    }
   },
   "id": "9f7a77669a17f8c4",
   "execution_count": 12
  },
  {
   "cell_type": "code",
   "outputs": [
    {
     "data": {
      "text/plain": "0       #fingerprint #Pregnancy Test https://goo.gl/h1...\n1       Finally a transparant silicon case ^^ Thanks t...\n2       We love this! Would you go? #talk #makememorie...\n3       I'm wired I know I'm George I was made that wa...\n4       What amazing service! Apple won't even talk to...\n                              ...                        \n7915    Live out loud #lol #liveoutloud #selfie #smile...\n7916    We would like to wish you an amazing day! Make...\n7917    Helping my lovely 90 year old neighbor with he...\n7918    Finally got my #smart #pocket #wifi stay conne...\n7919    Apple Barcelona!!! #Apple #Store #BCN #Barcelo...\nName: tweet, Length: 7920, dtype: object"
     },
     "execution_count": 13,
     "metadata": {},
     "output_type": "execute_result"
    }
   ],
   "source": [
    "data[\"tweet\"]"
   ],
   "metadata": {
    "collapsed": false,
    "ExecuteTime": {
     "end_time": "2024-03-07T17:01:29.617488500Z",
     "start_time": "2024-03-07T17:01:28.895720400Z"
    }
   },
   "id": "c7854e6e055fddcc",
   "execution_count": 13
  },
  {
   "cell_type": "code",
   "outputs": [],
   "source": [
    "data[\"tweet\"] = data[\"tweet\"].apply(to_lowercase)"
   ],
   "metadata": {
    "collapsed": false,
    "ExecuteTime": {
     "end_time": "2024-03-07T17:01:29.663008800Z",
     "start_time": "2024-03-07T17:01:28.925258100Z"
    }
   },
   "id": "89b291a0915737ca",
   "execution_count": 14
  },
  {
   "cell_type": "code",
   "outputs": [
    {
     "data": {
      "text/plain": "   id  label                                              tweet\n0   1      0  #fingerprint #pregnancy test https://goo.gl/h1...\n1   2      0  finally a transparant silicon case ^^ thanks t...\n2   3      0  we love this! would you go? #talk #makememorie...\n3   4      0  i'm wired i know i'm george i was made that wa...\n4   5      1  what amazing service! apple won't even talk to...",
      "text/html": "<div>\n<style scoped>\n    .dataframe tbody tr th:only-of-type {\n        vertical-align: middle;\n    }\n\n    .dataframe tbody tr th {\n        vertical-align: top;\n    }\n\n    .dataframe thead th {\n        text-align: right;\n    }\n</style>\n<table border=\"1\" class=\"dataframe\">\n  <thead>\n    <tr style=\"text-align: right;\">\n      <th></th>\n      <th>id</th>\n      <th>label</th>\n      <th>tweet</th>\n    </tr>\n  </thead>\n  <tbody>\n    <tr>\n      <th>0</th>\n      <td>1</td>\n      <td>0</td>\n      <td>#fingerprint #pregnancy test https://goo.gl/h1...</td>\n    </tr>\n    <tr>\n      <th>1</th>\n      <td>2</td>\n      <td>0</td>\n      <td>finally a transparant silicon case ^^ thanks t...</td>\n    </tr>\n    <tr>\n      <th>2</th>\n      <td>3</td>\n      <td>0</td>\n      <td>we love this! would you go? #talk #makememorie...</td>\n    </tr>\n    <tr>\n      <th>3</th>\n      <td>4</td>\n      <td>0</td>\n      <td>i'm wired i know i'm george i was made that wa...</td>\n    </tr>\n    <tr>\n      <th>4</th>\n      <td>5</td>\n      <td>1</td>\n      <td>what amazing service! apple won't even talk to...</td>\n    </tr>\n  </tbody>\n</table>\n</div>"
     },
     "execution_count": 15,
     "metadata": {},
     "output_type": "execute_result"
    }
   ],
   "source": [
    "data.head()"
   ],
   "metadata": {
    "collapsed": false,
    "ExecuteTime": {
     "end_time": "2024-03-07T17:01:29.726577300Z",
     "start_time": "2024-03-07T17:01:29.011269300Z"
    }
   },
   "id": "b8a8c9a83124087c",
   "execution_count": 15
  },
  {
   "cell_type": "code",
   "outputs": [],
   "source": [
    "def remove_link(text):\n",
    "    pattern = r'https?://(www\\.)?[-a-zA-Z0-9@:%._\\+~#=]{1,256}\\.[a-zA-Z0-9()]{1,6}\\b([-a-zA-Z0-9()@:%_\\+.~#?&//=]*)'\n",
    "    new_text = []\n",
    "    for word in text.split():\n",
    "        if not re.search(pattern, word):\n",
    "            new_text.append(word)\n",
    "    output = \" \".join(new_text)\n",
    "    return output"
   ],
   "metadata": {
    "collapsed": false,
    "ExecuteTime": {
     "end_time": "2024-03-07T17:01:29.800666200Z",
     "start_time": "2024-03-07T17:01:29.035796400Z"
    }
   },
   "id": "a4126b2f690f69bc",
   "execution_count": 16
  },
  {
   "cell_type": "code",
   "outputs": [],
   "source": [
    "data[\"tweet\"] = data[\"tweet\"].apply(remove_link)"
   ],
   "metadata": {
    "collapsed": false,
    "ExecuteTime": {
     "end_time": "2024-03-07T17:01:29.891112500Z",
     "start_time": "2024-03-07T17:01:29.057792600Z"
    }
   },
   "id": "dc02c605a05245f8",
   "execution_count": 17
  },
  {
   "cell_type": "code",
   "outputs": [
    {
     "data": {
      "text/plain": "        id  label                                              tweet\n0        1      0  #fingerprint #pregnancy test #android #apps #b...\n1        2      0  finally a transparant silicon case ^^ thanks t...\n2        3      0  we love this! would you go? #talk #makememorie...\n3        4      0  i'm wired i know i'm george i was made that wa...\n4        5      1  what amazing service! apple won't even talk to...\n...    ...    ...                                                ...\n7915  7916      0  live out loud #lol #liveoutloud #selfie #smile...\n7916  7917      0  we would like to wish you an amazing day! make...\n7917  7918      0  helping my lovely 90 year old neighbor with he...\n7918  7919      0  finally got my #smart #pocket #wifi stay conne...\n7919  7920      0  apple barcelona!!! #apple #store #bcn #barcelo...\n\n[7920 rows x 3 columns]",
      "text/html": "<div>\n<style scoped>\n    .dataframe tbody tr th:only-of-type {\n        vertical-align: middle;\n    }\n\n    .dataframe tbody tr th {\n        vertical-align: top;\n    }\n\n    .dataframe thead th {\n        text-align: right;\n    }\n</style>\n<table border=\"1\" class=\"dataframe\">\n  <thead>\n    <tr style=\"text-align: right;\">\n      <th></th>\n      <th>id</th>\n      <th>label</th>\n      <th>tweet</th>\n    </tr>\n  </thead>\n  <tbody>\n    <tr>\n      <th>0</th>\n      <td>1</td>\n      <td>0</td>\n      <td>#fingerprint #pregnancy test #android #apps #b...</td>\n    </tr>\n    <tr>\n      <th>1</th>\n      <td>2</td>\n      <td>0</td>\n      <td>finally a transparant silicon case ^^ thanks t...</td>\n    </tr>\n    <tr>\n      <th>2</th>\n      <td>3</td>\n      <td>0</td>\n      <td>we love this! would you go? #talk #makememorie...</td>\n    </tr>\n    <tr>\n      <th>3</th>\n      <td>4</td>\n      <td>0</td>\n      <td>i'm wired i know i'm george i was made that wa...</td>\n    </tr>\n    <tr>\n      <th>4</th>\n      <td>5</td>\n      <td>1</td>\n      <td>what amazing service! apple won't even talk to...</td>\n    </tr>\n    <tr>\n      <th>...</th>\n      <td>...</td>\n      <td>...</td>\n      <td>...</td>\n    </tr>\n    <tr>\n      <th>7915</th>\n      <td>7916</td>\n      <td>0</td>\n      <td>live out loud #lol #liveoutloud #selfie #smile...</td>\n    </tr>\n    <tr>\n      <th>7916</th>\n      <td>7917</td>\n      <td>0</td>\n      <td>we would like to wish you an amazing day! make...</td>\n    </tr>\n    <tr>\n      <th>7917</th>\n      <td>7918</td>\n      <td>0</td>\n      <td>helping my lovely 90 year old neighbor with he...</td>\n    </tr>\n    <tr>\n      <th>7918</th>\n      <td>7919</td>\n      <td>0</td>\n      <td>finally got my #smart #pocket #wifi stay conne...</td>\n    </tr>\n    <tr>\n      <th>7919</th>\n      <td>7920</td>\n      <td>0</td>\n      <td>apple barcelona!!! #apple #store #bcn #barcelo...</td>\n    </tr>\n  </tbody>\n</table>\n<p>7920 rows × 3 columns</p>\n</div>"
     },
     "execution_count": 18,
     "metadata": {},
     "output_type": "execute_result"
    }
   ],
   "source": [
    "data"
   ],
   "metadata": {
    "collapsed": false,
    "ExecuteTime": {
     "end_time": "2024-03-07T17:01:30.061929800Z",
     "start_time": "2024-03-07T17:01:29.399402600Z"
    }
   },
   "id": "98f37efad81b0d39",
   "execution_count": 18
  },
  {
   "cell_type": "code",
   "outputs": [],
   "source": [
    "def remove_punctuations(text):\n",
    "    for punc in string.punctuation:\n",
    "        text = text.replace(punc, \"\")\n",
    "    return text"
   ],
   "metadata": {
    "collapsed": false,
    "ExecuteTime": {
     "end_time": "2024-03-07T17:01:30.064930500Z",
     "start_time": "2024-03-07T17:01:29.435944400Z"
    }
   },
   "id": "fdc6f510b6aa5ecd",
   "execution_count": 19
  },
  {
   "cell_type": "code",
   "outputs": [],
   "source": [
    "data[\"tweet\"] = data[\"tweet\"].apply(remove_punctuations)"
   ],
   "metadata": {
    "collapsed": false,
    "ExecuteTime": {
     "end_time": "2024-03-07T17:01:30.125481200Z",
     "start_time": "2024-03-07T17:01:29.445947500Z"
    }
   },
   "id": "8c5099cd5e97389a",
   "execution_count": 20
  },
  {
   "cell_type": "code",
   "outputs": [
    {
     "data": {
      "text/plain": "        id  label                                              tweet\n0        1      0  fingerprint pregnancy test android apps beauti...\n1        2      0  finally a transparant silicon case  thanks to ...\n2        3      0  we love this would you go talk makememories un...\n3        4      0  im wired i know im george i was made that way ...\n4        5      1  what amazing service apple wont even talk to m...\n...    ...    ...                                                ...\n7915  7916      0  live out loud lol liveoutloud selfie smile son...\n7916  7917      0  we would like to wish you an amazing day make ...\n7917  7918      0  helping my lovely 90 year old neighbor with he...\n7918  7919      0  finally got my smart pocket wifi stay connecte...\n7919  7920      0  apple barcelona apple store bcn barcelona trav...\n\n[7920 rows x 3 columns]",
      "text/html": "<div>\n<style scoped>\n    .dataframe tbody tr th:only-of-type {\n        vertical-align: middle;\n    }\n\n    .dataframe tbody tr th {\n        vertical-align: top;\n    }\n\n    .dataframe thead th {\n        text-align: right;\n    }\n</style>\n<table border=\"1\" class=\"dataframe\">\n  <thead>\n    <tr style=\"text-align: right;\">\n      <th></th>\n      <th>id</th>\n      <th>label</th>\n      <th>tweet</th>\n    </tr>\n  </thead>\n  <tbody>\n    <tr>\n      <th>0</th>\n      <td>1</td>\n      <td>0</td>\n      <td>fingerprint pregnancy test android apps beauti...</td>\n    </tr>\n    <tr>\n      <th>1</th>\n      <td>2</td>\n      <td>0</td>\n      <td>finally a transparant silicon case  thanks to ...</td>\n    </tr>\n    <tr>\n      <th>2</th>\n      <td>3</td>\n      <td>0</td>\n      <td>we love this would you go talk makememories un...</td>\n    </tr>\n    <tr>\n      <th>3</th>\n      <td>4</td>\n      <td>0</td>\n      <td>im wired i know im george i was made that way ...</td>\n    </tr>\n    <tr>\n      <th>4</th>\n      <td>5</td>\n      <td>1</td>\n      <td>what amazing service apple wont even talk to m...</td>\n    </tr>\n    <tr>\n      <th>...</th>\n      <td>...</td>\n      <td>...</td>\n      <td>...</td>\n    </tr>\n    <tr>\n      <th>7915</th>\n      <td>7916</td>\n      <td>0</td>\n      <td>live out loud lol liveoutloud selfie smile son...</td>\n    </tr>\n    <tr>\n      <th>7916</th>\n      <td>7917</td>\n      <td>0</td>\n      <td>we would like to wish you an amazing day make ...</td>\n    </tr>\n    <tr>\n      <th>7917</th>\n      <td>7918</td>\n      <td>0</td>\n      <td>helping my lovely 90 year old neighbor with he...</td>\n    </tr>\n    <tr>\n      <th>7918</th>\n      <td>7919</td>\n      <td>0</td>\n      <td>finally got my smart pocket wifi stay connecte...</td>\n    </tr>\n    <tr>\n      <th>7919</th>\n      <td>7920</td>\n      <td>0</td>\n      <td>apple barcelona apple store bcn barcelona trav...</td>\n    </tr>\n  </tbody>\n</table>\n<p>7920 rows × 3 columns</p>\n</div>"
     },
     "execution_count": 21,
     "metadata": {},
     "output_type": "execute_result"
    }
   ],
   "source": [
    "data"
   ],
   "metadata": {
    "collapsed": false,
    "ExecuteTime": {
     "end_time": "2024-03-07T17:01:30.152483400Z",
     "start_time": "2024-03-07T17:01:29.606480500Z"
    }
   },
   "id": "80d095cfc685e163",
   "execution_count": 21
  },
  {
   "cell_type": "code",
   "outputs": [],
   "source": [
    "data[\"tweet\"] = data[\"tweet\"].str.replace(\"\\d+\", \"\", regex=True)"
   ],
   "metadata": {
    "collapsed": false,
    "ExecuteTime": {
     "end_time": "2024-03-07T17:01:30.213491300Z",
     "start_time": "2024-03-07T17:01:29.638013600Z"
    }
   },
   "id": "d6fa5e1f4d0b3ecd",
   "execution_count": 22
  },
  {
   "cell_type": "code",
   "outputs": [
    {
     "data": {
      "text/plain": "        id  label                                              tweet\n0        1      0  fingerprint pregnancy test android apps beauti...\n1        2      0  finally a transparant silicon case  thanks to ...\n2        3      0  we love this would you go talk makememories un...\n3        4      0  im wired i know im george i was made that way ...\n4        5      1  what amazing service apple wont even talk to m...\n...    ...    ...                                                ...\n7915  7916      0  live out loud lol liveoutloud selfie smile son...\n7916  7917      0  we would like to wish you an amazing day make ...\n7917  7918      0  helping my lovely  year old neighbor with her ...\n7918  7919      0  finally got my smart pocket wifi stay connecte...\n7919  7920      0  apple barcelona apple store bcn barcelona trav...\n\n[7920 rows x 3 columns]",
      "text/html": "<div>\n<style scoped>\n    .dataframe tbody tr th:only-of-type {\n        vertical-align: middle;\n    }\n\n    .dataframe tbody tr th {\n        vertical-align: top;\n    }\n\n    .dataframe thead th {\n        text-align: right;\n    }\n</style>\n<table border=\"1\" class=\"dataframe\">\n  <thead>\n    <tr style=\"text-align: right;\">\n      <th></th>\n      <th>id</th>\n      <th>label</th>\n      <th>tweet</th>\n    </tr>\n  </thead>\n  <tbody>\n    <tr>\n      <th>0</th>\n      <td>1</td>\n      <td>0</td>\n      <td>fingerprint pregnancy test android apps beauti...</td>\n    </tr>\n    <tr>\n      <th>1</th>\n      <td>2</td>\n      <td>0</td>\n      <td>finally a transparant silicon case  thanks to ...</td>\n    </tr>\n    <tr>\n      <th>2</th>\n      <td>3</td>\n      <td>0</td>\n      <td>we love this would you go talk makememories un...</td>\n    </tr>\n    <tr>\n      <th>3</th>\n      <td>4</td>\n      <td>0</td>\n      <td>im wired i know im george i was made that way ...</td>\n    </tr>\n    <tr>\n      <th>4</th>\n      <td>5</td>\n      <td>1</td>\n      <td>what amazing service apple wont even talk to m...</td>\n    </tr>\n    <tr>\n      <th>...</th>\n      <td>...</td>\n      <td>...</td>\n      <td>...</td>\n    </tr>\n    <tr>\n      <th>7915</th>\n      <td>7916</td>\n      <td>0</td>\n      <td>live out loud lol liveoutloud selfie smile son...</td>\n    </tr>\n    <tr>\n      <th>7916</th>\n      <td>7917</td>\n      <td>0</td>\n      <td>we would like to wish you an amazing day make ...</td>\n    </tr>\n    <tr>\n      <th>7917</th>\n      <td>7918</td>\n      <td>0</td>\n      <td>helping my lovely  year old neighbor with her ...</td>\n    </tr>\n    <tr>\n      <th>7918</th>\n      <td>7919</td>\n      <td>0</td>\n      <td>finally got my smart pocket wifi stay connecte...</td>\n    </tr>\n    <tr>\n      <th>7919</th>\n      <td>7920</td>\n      <td>0</td>\n      <td>apple barcelona apple store bcn barcelona trav...</td>\n    </tr>\n  </tbody>\n</table>\n<p>7920 rows × 3 columns</p>\n</div>"
     },
     "execution_count": 23,
     "metadata": {},
     "output_type": "execute_result"
    }
   ],
   "source": [
    "data"
   ],
   "metadata": {
    "collapsed": false,
    "ExecuteTime": {
     "end_time": "2024-03-07T17:01:30.296604900Z",
     "start_time": "2024-03-07T17:01:29.715024700Z"
    }
   },
   "id": "5b7500e4b20155b7",
   "execution_count": 23
  },
  {
   "cell_type": "code",
   "outputs": [
    {
     "name": "stderr",
     "output_type": "stream",
     "text": [
      "[nltk_data] Downloading package stopwords to ./../static/model...\n",
      "[nltk_data]   Package stopwords is already up-to-date!\n"
     ]
    },
    {
     "data": {
      "text/plain": "True"
     },
     "execution_count": 24,
     "metadata": {},
     "output_type": "execute_result"
    }
   ],
   "source": [
    "nltk.download('stopwords', download_dir=\"./../static/model\")\n",
    "    "
   ],
   "metadata": {
    "collapsed": false,
    "ExecuteTime": {
     "end_time": "2024-03-07T17:01:30.674735400Z",
     "start_time": "2024-03-07T17:01:29.754576100Z"
    }
   },
   "id": "3ae721c84c1f8733",
   "execution_count": 24
  },
  {
   "cell_type": "code",
   "outputs": [
    {
     "data": {
      "text/plain": "['i',\n 'me',\n 'my',\n 'myself',\n 'we',\n 'our',\n 'ours',\n 'ourselves',\n 'you',\n \"you're\",\n \"you've\",\n \"you'll\",\n \"you'd\",\n 'your',\n 'yours',\n 'yourself',\n 'yourselves',\n 'he',\n 'him',\n 'his',\n 'himself',\n 'she',\n \"she's\",\n 'her',\n 'hers',\n 'herself',\n 'it',\n \"it's\",\n 'its',\n 'itself',\n 'they',\n 'them',\n 'their',\n 'theirs',\n 'themselves',\n 'what',\n 'which',\n 'who',\n 'whom',\n 'this',\n 'that',\n \"that'll\",\n 'these',\n 'those',\n 'am',\n 'is',\n 'are',\n 'was',\n 'were',\n 'be',\n 'been',\n 'being',\n 'have',\n 'has',\n 'had',\n 'having',\n 'do',\n 'does',\n 'did',\n 'doing',\n 'a',\n 'an',\n 'the',\n 'and',\n 'but',\n 'if',\n 'or',\n 'because',\n 'as',\n 'until',\n 'while',\n 'of',\n 'at',\n 'by',\n 'for',\n 'with',\n 'about',\n 'against',\n 'between',\n 'into',\n 'through',\n 'during',\n 'before',\n 'after',\n 'above',\n 'below',\n 'to',\n 'from',\n 'up',\n 'down',\n 'in',\n 'out',\n 'on',\n 'off',\n 'over',\n 'under',\n 'again',\n 'further',\n 'then',\n 'once',\n 'here',\n 'there',\n 'when',\n 'where',\n 'why',\n 'how',\n 'all',\n 'any',\n 'both',\n 'each',\n 'few',\n 'more',\n 'most',\n 'other',\n 'some',\n 'such',\n 'no',\n 'nor',\n 'not',\n 'only',\n 'own',\n 'same',\n 'so',\n 'than',\n 'too',\n 'very',\n 's',\n 't',\n 'can',\n 'will',\n 'just',\n 'don',\n \"don't\",\n 'should',\n \"should've\",\n 'now',\n 'd',\n 'll',\n 'm',\n 'o',\n 're',\n 've',\n 'y',\n 'ain',\n 'aren',\n \"aren't\",\n 'couldn',\n \"couldn't\",\n 'didn',\n \"didn't\",\n 'doesn',\n \"doesn't\",\n 'hadn',\n \"hadn't\",\n 'hasn',\n \"hasn't\",\n 'haven',\n \"haven't\",\n 'isn',\n \"isn't\",\n 'ma',\n 'mightn',\n \"mightn't\",\n 'mustn',\n \"mustn't\",\n 'needn',\n \"needn't\",\n 'shan',\n \"shan't\",\n 'shouldn',\n \"shouldn't\",\n 'wasn',\n \"wasn't\",\n 'weren',\n \"weren't\",\n 'won',\n \"won't\",\n 'wouldn',\n \"wouldn't\"]"
     },
     "execution_count": 25,
     "metadata": {},
     "output_type": "execute_result"
    }
   ],
   "source": [
    "with open(\"./../static/model/corpora/stopwords/english\", \"r\") as file:\n",
    "    sw = file.read().splitlines()\n",
    "sw"
   ],
   "metadata": {
    "collapsed": false,
    "ExecuteTime": {
     "end_time": "2024-03-07T17:01:30.748275200Z",
     "start_time": "2024-03-07T17:01:30.142485700Z"
    }
   },
   "id": "462fdfac4820471f",
   "execution_count": 25
  },
  {
   "cell_type": "code",
   "outputs": [],
   "source": [
    "def remove_stopwords(text):\n",
    "    new_text = []\n",
    "    for word in text.split():\n",
    "        if word not in sw:\n",
    "            new_text.append(word)\n",
    "    output = \" \".join(new_text)\n",
    "    return output"
   ],
   "metadata": {
    "collapsed": false,
    "ExecuteTime": {
     "end_time": "2024-03-07T17:01:30.753275100Z",
     "start_time": "2024-03-07T17:01:30.178481Z"
    }
   },
   "id": "784a5acb7642326",
   "execution_count": 26
  },
  {
   "cell_type": "code",
   "outputs": [],
   "source": [
    "data[\"tweet\"] = data[\"tweet\"].apply(remove_stopwords)"
   ],
   "metadata": {
    "collapsed": false,
    "ExecuteTime": {
     "end_time": "2024-03-07T17:01:31.567841600Z",
     "start_time": "2024-03-07T17:01:30.214490Z"
    }
   },
   "id": "2cdcf7d43abff92e",
   "execution_count": 27
  },
  {
   "cell_type": "code",
   "outputs": [
    {
     "data": {
      "text/plain": "        id  label                                              tweet\n0        1      0  fingerprint pregnancy test android apps beauti...\n1        2      0  finally transparant silicon case thanks uncle ...\n2        3      0  love would go talk makememories unplug relax i...\n3        4      0  im wired know im george made way iphone cute d...\n4        5      1  amazing service apple wont even talk question ...\n...    ...    ...                                                ...\n7915  7916      0  live loud lol liveoutloud selfie smile sony mu...\n7916  7917      0  would like wish amazing day make every minute ...\n7917  7918      0  helping lovely year old neighbor ipad morning ...\n7918  7919      0  finally got smart pocket wifi stay connected a...\n7919  7920      0  apple barcelona apple store bcn barcelona trav...\n\n[7920 rows x 3 columns]",
      "text/html": "<div>\n<style scoped>\n    .dataframe tbody tr th:only-of-type {\n        vertical-align: middle;\n    }\n\n    .dataframe tbody tr th {\n        vertical-align: top;\n    }\n\n    .dataframe thead th {\n        text-align: right;\n    }\n</style>\n<table border=\"1\" class=\"dataframe\">\n  <thead>\n    <tr style=\"text-align: right;\">\n      <th></th>\n      <th>id</th>\n      <th>label</th>\n      <th>tweet</th>\n    </tr>\n  </thead>\n  <tbody>\n    <tr>\n      <th>0</th>\n      <td>1</td>\n      <td>0</td>\n      <td>fingerprint pregnancy test android apps beauti...</td>\n    </tr>\n    <tr>\n      <th>1</th>\n      <td>2</td>\n      <td>0</td>\n      <td>finally transparant silicon case thanks uncle ...</td>\n    </tr>\n    <tr>\n      <th>2</th>\n      <td>3</td>\n      <td>0</td>\n      <td>love would go talk makememories unplug relax i...</td>\n    </tr>\n    <tr>\n      <th>3</th>\n      <td>4</td>\n      <td>0</td>\n      <td>im wired know im george made way iphone cute d...</td>\n    </tr>\n    <tr>\n      <th>4</th>\n      <td>5</td>\n      <td>1</td>\n      <td>amazing service apple wont even talk question ...</td>\n    </tr>\n    <tr>\n      <th>...</th>\n      <td>...</td>\n      <td>...</td>\n      <td>...</td>\n    </tr>\n    <tr>\n      <th>7915</th>\n      <td>7916</td>\n      <td>0</td>\n      <td>live loud lol liveoutloud selfie smile sony mu...</td>\n    </tr>\n    <tr>\n      <th>7916</th>\n      <td>7917</td>\n      <td>0</td>\n      <td>would like wish amazing day make every minute ...</td>\n    </tr>\n    <tr>\n      <th>7917</th>\n      <td>7918</td>\n      <td>0</td>\n      <td>helping lovely year old neighbor ipad morning ...</td>\n    </tr>\n    <tr>\n      <th>7918</th>\n      <td>7919</td>\n      <td>0</td>\n      <td>finally got smart pocket wifi stay connected a...</td>\n    </tr>\n    <tr>\n      <th>7919</th>\n      <td>7920</td>\n      <td>0</td>\n      <td>apple barcelona apple store bcn barcelona trav...</td>\n    </tr>\n  </tbody>\n</table>\n<p>7920 rows × 3 columns</p>\n</div>"
     },
     "execution_count": 28,
     "metadata": {},
     "output_type": "execute_result"
    }
   ],
   "source": [
    "data"
   ],
   "metadata": {
    "collapsed": false,
    "ExecuteTime": {
     "end_time": "2024-03-07T17:01:31.587838300Z",
     "start_time": "2024-03-07T17:01:30.901812500Z"
    }
   },
   "id": "d75e7bc4ba980828",
   "execution_count": 28
  },
  {
   "cell_type": "code",
   "outputs": [
    {
     "name": "stderr",
     "output_type": "stream",
     "text": [
      "[nltk_data] Downloading package wordnet to ./../static/model...\n",
      "[nltk_data]   Package wordnet is already up-to-date!\n"
     ]
    },
    {
     "data": {
      "text/plain": "True"
     },
     "execution_count": 29,
     "metadata": {},
     "output_type": "execute_result"
    }
   ],
   "source": [
    "from nltk.stem import WordNetLemmatizer\n",
    "wnl = WordNetLemmatizer()\n",
    "nltk.download('wordnet', download_dir=\"./../static/model\")"
   ],
   "metadata": {
    "collapsed": false,
    "ExecuteTime": {
     "end_time": "2024-03-07T17:01:31.718387Z",
     "start_time": "2024-03-07T17:01:30.935355300Z"
    }
   },
   "id": "f483ab102a2aacb3",
   "execution_count": 29
  },
  {
   "cell_type": "code",
   "outputs": [],
   "source": [
    "wordnet_path = \"./../static/model/\"\n",
    "nltk.data.path.append(wordnet_path)"
   ],
   "metadata": {
    "collapsed": false,
    "ExecuteTime": {
     "end_time": "2024-03-07T17:01:31.721386Z",
     "start_time": "2024-03-07T17:01:31.013367200Z"
    }
   },
   "id": "f1b87ad547d15206",
   "execution_count": 30
  },
  {
   "cell_type": "code",
   "outputs": [],
   "source": [
    "def lemmatize_text(text):\n",
    "    new_text = []\n",
    "    for word in text.split():\n",
    "        word = wnl.lemmatize(word)\n",
    "        new_text.append(word)\n",
    "        \n",
    "    output = \" \".join(new_text)\n",
    "    return output"
   ],
   "metadata": {
    "collapsed": false,
    "ExecuteTime": {
     "end_time": "2024-03-07T17:01:31.754928200Z",
     "start_time": "2024-03-07T17:01:31.028889300Z"
    }
   },
   "id": "3f304cac01ac0c33",
   "execution_count": 31
  },
  {
   "cell_type": "code",
   "outputs": [],
   "source": [
    "data[\"tweet\"] = data[\"tweet\"].apply(lemmatize_text)"
   ],
   "metadata": {
    "collapsed": false,
    "ExecuteTime": {
     "end_time": "2024-03-07T17:01:35.990958200Z",
     "start_time": "2024-03-07T17:01:31.046890300Z"
    }
   },
   "id": "f68e1b04167944a5",
   "execution_count": 32
  },
  {
   "cell_type": "code",
   "outputs": [
    {
     "data": {
      "text/plain": "        id  label                                              tweet\n0        1      0  fingerprint pregnancy test android apps beauti...\n1        2      0  finally transparant silicon case thanks uncle ...\n2        3      0  love would go talk makememories unplug relax i...\n3        4      0  im wired know im george made way iphone cute d...\n4        5      1  amazing service apple wont even talk question ...\n...    ...    ...                                                ...\n7915  7916      0  live loud lol liveoutloud selfie smile sony mu...\n7916  7917      0  would like wish amazing day make every minute ...\n7917  7918      0  helping lovely year old neighbor ipad morning ...\n7918  7919      0  finally got smart pocket wifi stay connected a...\n7919  7920      0  apple barcelona apple store bcn barcelona trav...\n\n[7920 rows x 3 columns]",
      "text/html": "<div>\n<style scoped>\n    .dataframe tbody tr th:only-of-type {\n        vertical-align: middle;\n    }\n\n    .dataframe tbody tr th {\n        vertical-align: top;\n    }\n\n    .dataframe thead th {\n        text-align: right;\n    }\n</style>\n<table border=\"1\" class=\"dataframe\">\n  <thead>\n    <tr style=\"text-align: right;\">\n      <th></th>\n      <th>id</th>\n      <th>label</th>\n      <th>tweet</th>\n    </tr>\n  </thead>\n  <tbody>\n    <tr>\n      <th>0</th>\n      <td>1</td>\n      <td>0</td>\n      <td>fingerprint pregnancy test android apps beauti...</td>\n    </tr>\n    <tr>\n      <th>1</th>\n      <td>2</td>\n      <td>0</td>\n      <td>finally transparant silicon case thanks uncle ...</td>\n    </tr>\n    <tr>\n      <th>2</th>\n      <td>3</td>\n      <td>0</td>\n      <td>love would go talk makememories unplug relax i...</td>\n    </tr>\n    <tr>\n      <th>3</th>\n      <td>4</td>\n      <td>0</td>\n      <td>im wired know im george made way iphone cute d...</td>\n    </tr>\n    <tr>\n      <th>4</th>\n      <td>5</td>\n      <td>1</td>\n      <td>amazing service apple wont even talk question ...</td>\n    </tr>\n    <tr>\n      <th>...</th>\n      <td>...</td>\n      <td>...</td>\n      <td>...</td>\n    </tr>\n    <tr>\n      <th>7915</th>\n      <td>7916</td>\n      <td>0</td>\n      <td>live loud lol liveoutloud selfie smile sony mu...</td>\n    </tr>\n    <tr>\n      <th>7916</th>\n      <td>7917</td>\n      <td>0</td>\n      <td>would like wish amazing day make every minute ...</td>\n    </tr>\n    <tr>\n      <th>7917</th>\n      <td>7918</td>\n      <td>0</td>\n      <td>helping lovely year old neighbor ipad morning ...</td>\n    </tr>\n    <tr>\n      <th>7918</th>\n      <td>7919</td>\n      <td>0</td>\n      <td>finally got smart pocket wifi stay connected a...</td>\n    </tr>\n    <tr>\n      <th>7919</th>\n      <td>7920</td>\n      <td>0</td>\n      <td>apple barcelona apple store bcn barcelona trav...</td>\n    </tr>\n  </tbody>\n</table>\n<p>7920 rows × 3 columns</p>\n</div>"
     },
     "execution_count": 33,
     "metadata": {},
     "output_type": "execute_result"
    }
   ],
   "source": [
    "data"
   ],
   "metadata": {
    "collapsed": false,
    "ExecuteTime": {
     "end_time": "2024-03-07T17:01:36.057493100Z",
     "start_time": "2024-03-07T17:01:36.008958500Z"
    }
   },
   "id": "95b916b0f374de5e",
   "execution_count": 33
  },
  {
   "cell_type": "markdown",
   "source": [
    "# Vocabulary Building"
   ],
   "metadata": {
    "collapsed": false
   },
   "id": "fc41a3aa4dc7ee3a"
  },
  {
   "cell_type": "code",
   "outputs": [],
   "source": [
    "from collections import Counter\n",
    "vocabulary = Counter()"
   ],
   "metadata": {
    "collapsed": false,
    "ExecuteTime": {
     "end_time": "2024-03-07T17:01:36.071492500Z",
     "start_time": "2024-03-07T17:01:36.026969400Z"
    }
   },
   "id": "93dd7510b2260187",
   "execution_count": 34
  },
  {
   "cell_type": "code",
   "outputs": [],
   "source": [
    "for tweet in data[\"tweet\"]:\n",
    "    vocabulary.update(tweet.split())"
   ],
   "metadata": {
    "collapsed": false,
    "ExecuteTime": {
     "end_time": "2024-03-07T17:01:36.327554300Z",
     "start_time": "2024-03-07T17:01:36.042497700Z"
    }
   },
   "id": "1c7f74fb654b2d27",
   "execution_count": 35
  },
  {
   "cell_type": "code",
   "outputs": [
    {
     "data": {
      "text/plain": "Counter({'iphone': 3943,\n         'apple': 2875,\n         'samsung': 1385,\n         'new': 1137,\n         'phone': 1014,\n         'sony': 818,\n         '…': 751,\n         'follow': 719,\n         'ipad': 522,\n         'love': 451,\n         'like': 444,\n         'day': 426,\n         'life': 418,\n         'android': 414,\n         'photo': 394,\n         'io': 383,\n         'rt': 378,\n         'galaxy': 360,\n         'instagram': 346,\n         'case': 342,\n         'cute': 321,\n         'get': 317,\n         'gain': 311,\n         'today': 309,\n         'im': 294,\n         'photography': 292,\n         'back': 289,\n         'got': 280,\n         'fun': 277,\n         'news': 265,\n         'music': 260,\n         'time': 245,\n         'app': 242,\n         'p': 236,\n         'happy': 235,\n         'work': 230,\n         'beautiful': 227,\n         'instagood': 226,\n         'smile': 226,\n         'funny': 223,\n         'one': 221,\n         'girl': 220,\n         'lol': 215,\n         'fashion': 215,\n         'make': 214,\n         'game': 213,\n         'ipod': 211,\n         'itunes': 211,\n         'birthday': 206,\n         'tech': 205,\n         'iphonex': 199,\n         'u': 193,\n         'photooftheday': 191,\n         'friend': 191,\n         'finally': 185,\n         'update': 184,\n         'everyone': 182,\n         'cant': 180,\n         'good': 179,\n         'apps': 174,\n         'amazing': 173,\n         'must': 168,\n         'note': 165,\n         'sougofollow': 165,\n         'dont': 164,\n         'mac': 164,\n         'gift': 162,\n         'follower': 161,\n         'selfie': 159,\n         'sale': 156,\n         'want': 154,\n         'fail': 153,\n         'thanks': 149,\n         'free': 149,\n         'rts': 147,\n         'fuck': 147,\n         'would': 146,\n         'baby': 146,\n         'go': 144,\n         'hate': 144,\n         'home': 143,\n         'look': 142,\n         'year': 141,\n         'igers': 139,\n         'camera': 139,\n         'family': 139,\n         'iphonesia': 137,\n         'best': 136,\n         'cool': 134,\n         'art': 131,\n         'iphoneonly': 129,\n         'charger': 128,\n         'fucking': 128,\n         'every': 127,\n         'christmas': 124,\n         'iphones': 123,\n         'need': 123,\n         'suck': 121,\n         'health': 120,\n         'smartphone': 119,\n         'summer': 119,\n         'picoftheday': 117,\n         'live': 116,\n         'thing': 116,\n         'white': 115,\n         'hour': 113,\n         'color': 112,\n         'still': 112,\n         'minute': 111,\n         'product': 110,\n         'mobile': 109,\n         'much': 109,\n         'night': 107,\n         'know': 105,\n         'window': 104,\n         'macbook': 104,\n         'money': 103,\n         'screen': 102,\n         'buy': 102,\n         'laptop': 102,\n         'awesome': 102,\n         'nature': 101,\n         'ever': 101,\n         'thank': 100,\n         'ff': 97,\n         'great': 96,\n         'sexy': 94,\n         'wish': 94,\n         'motorola': 94,\n         'beauty': 93,\n         'even': 92,\n         'style': 92,\n         'accessory': 92,\n         'store': 91,\n         'black': 90,\n         'instamood': 90,\n         'followme': 89,\n         'use': 88,\n         'computer': 88,\n         'last': 88,\n         'excited': 88,\n         'going': 87,\n         'say': 87,\n         'nice': 87,\n         'wont': 86,\n         'technology': 86,\n         'pink': 86,\n         'iphone…': 86,\n         'twitter': 86,\n         'people': 85,\n         'download': 84,\n         'really': 83,\n         'ive': 83,\n         'sweet': 83,\n         'guy': 83,\n         'picture': 82,\n         'morning': 82,\n         'video': 81,\n         'never': 81,\n         'first': 81,\n         'keep': 80,\n         'retweet': 80,\n         'right': 80,\n         'old': 80,\n         'via': 79,\n         'boy': 77,\n         'battery': 77,\n         'google': 76,\n         'playstation': 76,\n         'job': 75,\n         'fuckyou': 75,\n         'everything': 75,\n         'hey': 73,\n         'tv': 73,\n         'toy': 73,\n         'made': 72,\n         'pretty': 72,\n         'take': 72,\n         'another': 71,\n         'dog': 71,\n         'think': 71,\n         'well': 71,\n         'pic': 70,\n         'blue': 70,\n         'shopping': 69,\n         'week': 69,\n         'red': 69,\n         'cover': 69,\n         'doesnt': 69,\n         'yay': 68,\n         'stupid': 68,\n         'watch': 68,\n         'gaming': 68,\n         'let': 68,\n         'world': 68,\n         'offer': 68,\n         'gadget': 68,\n         'x': 68,\n         'sun': 67,\n         'g': 67,\n         'customer': 67,\n         'working': 67,\n         'kid': 67,\n         'instadaily': 66,\n         'count': 66,\n         'getting': 65,\n         'quote': 65,\n         'headphone': 65,\n         'big': 64,\n         'text': 64,\n         'food': 64,\n         'nokia': 64,\n         'check': 63,\n         'always': 63,\n         'travel': 63,\n         'appstore': 63,\n         'friday': 63,\n         'present': 63,\n         'come': 62,\n         'deal': 62,\n         'tl': 62,\n         'rhyme': 62,\n         'amazon': 61,\n         'sunset': 61,\n         'tablet': 61,\n         'book': 61,\n         'cat': 61,\n         'pc': 61,\n         'song': 60,\n         'see': 59,\n         'laugh': 58,\n         'happiness': 58,\n         'blackberry': 58,\n         'capetown': 58,\n         'trying': 58,\n         'ig': 58,\n         'hello': 58,\n         'xperia': 57,\n         'sky': 57,\n         'bought': 57,\n         'sunday': 57,\n         'image': 57,\n         'holiday': 56,\n         'lost': 56,\n         'wait': 56,\n         'since': 56,\n         'wow': 56,\n         'better': 56,\n         'instapic': 55,\n         'flower': 55,\n         'month': 55,\n         'youtube': 54,\n         'hot': 54,\n         'followback': 54,\n         'oh': 54,\n         'gb': 54,\n         'surf': 54,\n         'way': 53,\n         'design': 53,\n         'green': 53,\n         'capetownsup': 53,\n         'sup': 53,\n         'top': 53,\n         'facebook': 53,\n         'iphoneography': 52,\n         'gold': 52,\n         'put': 52,\n         'valentine': 52,\n         'heart': 52,\n         'weekend': 52,\n         'service': 51,\n         'share': 51,\n         'mine': 51,\n         'th': 51,\n         'yes': 51,\n         'fix': 51,\n         'wifi': 50,\n         'play': 50,\n         'tweegram': 50,\n         'twitch': 50,\n         'moment': 50,\n         'beach': 50,\n         'macbookpro': 50,\n         'god': 50,\n         'upgrade': 50,\n         'newyear': 49,\n         'hard': 49,\n         'hateapple': 49,\n         'iphoneplus': 49,\n         'give': 49,\n         'using': 49,\n         'dear': 48,\n         'face': 48,\n         'deleted': 48,\n         'try': 48,\n         'please': 47,\n         'didnt': 47,\n         'party': 47,\n         'yeah': 47,\n         'charge': 46,\n         'shop': 46,\n         'user': 46,\n         'little': 46,\n         'pro': 46,\n         'start': 45,\n         'thats': 45,\n         'problem': 45,\n         'siri': 45,\n         'find': 45,\n         'came': 44,\n         'ya': 44,\n         'gamer': 44,\n         'swag': 44,\n         'welcome': 44,\n         'two': 44,\n         'plus': 44,\n         'could': 44,\n         'man': 44,\n         'newphone': 44,\n         'dating': 43,\n         'word': 43,\n         'may': 43,\n         'coming': 43,\n         'microsoft': 43,\n         'id': 42,\n         'device': 42,\n         'usa': 42,\n         'car': 42,\n         'took': 42,\n         'blog': 42,\n         'likelike': 42,\n         'gonna': 42,\n         'att': 42,\n         'support': 41,\n         'crazy': 41,\n         'reason': 41,\n         'random': 41,\n         'already': 41,\n         'available': 41,\n         'nofilter': 41,\n         'oneplus': 41,\n         'insta': 41,\n         'vsco': 41,\n         'discount': 41,\n         'message': 41,\n         '•': 41,\n         'hair': 41,\n         'cable': 40,\n         'saturday': 40,\n         'updated': 40,\n         'power': 40,\n         'miss': 40,\n         'seriously': 39,\n         'light': 39,\n         'model': 39,\n         'tweet': 39,\n         'tab': 39,\n         'w': 39,\n         'bestprice': 39,\n         'show': 39,\n         'feel': 39,\n         'couple': 39,\n         'movie': 38,\n         'broken': 38,\n         'company': 38,\n         'ready': 38,\n         'haha': 38,\n         'enjoy': 38,\n         'tbt': 38,\n         'done': 37,\n         'joy': 37,\n         'coffee': 37,\n         'contact': 37,\n         'stop': 37,\n         'help': 37,\n         'shit': 37,\n         'phonecase': 37,\n         'trip': 37,\n         'piece': 37,\n         'pay': 36,\n         'monday': 36,\n         'bad': 36,\n         'yet': 36,\n         'call': 36,\n         'mom': 36,\n         'enough': 36,\n         'r': 36,\n         'waiting': 36,\n         'nothing': 35,\n         'tree': 35,\n         'business': 35,\n         'stuff': 35,\n         'arrived': 35,\n         'gay': 35,\n         '—': 35,\n         'change': 35,\n         'ago': 35,\n         'taken': 34,\n         'early': 34,\n         'many': 34,\n         'peace': 34,\n         'fan': 34,\n         'long': 34,\n         'soon': 34,\n         'password': 34,\n         'next': 34,\n         'verizon': 34,\n         'anyone': 34,\n         'number': 34,\n         'loving': 34,\n         'fresh': 34,\n         'code': 34,\n         'house': 34,\n         'relax': 33,\n         'sister': 33,\n         'spring': 33,\n         'turn': 33,\n         'imessage': 33,\n         'woman': 33,\n         'favorite': 33,\n         'making': 33,\n         'mini': 33,\n         'someone': 32,\n         'instago': 32,\n         'feeling': 32,\n         'teamfollowback': 32,\n         'win': 32,\n         'something': 32,\n         'feature': 32,\n         'galaxynote': 32,\n         'real': 32,\n         'hope': 32,\n         'college': 32,\n         'blessed': 32,\n         'sad': 32,\n         'k': 32,\n         'worst': 32,\n         'le': 31,\n         'single': 31,\n         'portrait': 31,\n         'husband': 31,\n         'fast': 31,\n         'geek': 31,\n         'steemit': 31,\n         'lock': 31,\n         'care': 31,\n         'london': 31,\n         'sony…': 31,\n         'switch': 31,\n         'water': 30,\n         'cloud': 30,\n         'actually': 30,\n         'followsunday': 30,\n         'nyc': 30,\n         'healthy': 30,\n         'gratitude': 30,\n         'tell': 30,\n         'restore': 30,\n         'steve': 30,\n         'ill': 30,\n         'anything': 30,\n         'pissed': 30,\n         'software': 29,\n         'c': 29,\n         'email': 29,\n         'button': 29,\n         'broke': 29,\n         'xbox': 29,\n         'school': 29,\n         'fruit': 29,\n         'air': 29,\n         'sonylens': 29,\n         'sonyphotography': 29,\n         'sound': 29,\n         'kiss': 29,\n         'brand': 29,\n         'z': 28,\n         'kindle': 28,\n         'perfect': 28,\n         'tomorrow': 28,\n         'dad': 28,\n         'decor': 28,\n         'beat': 28,\n         'puppy': 28,\n         'gone': 28,\n         'break': 28,\n         'thailand': 28,\n         'giving': 27,\n         'card': 27,\n         'version': 27,\n         'sleep': 27,\n         'popular': 27,\n         'o': 27,\n         'story': 27,\n         'cellphone': 27,\n         'florida': 27,\n         'lg': 27,\n         'without': 27,\n         'crap': 27,\n         'андроид': 27,\n         'also': 27,\n         'said': 27,\n         'ok': 27,\n         'sure': 27,\n         'relationship': 27,\n         'pet': 26,\n         'run': 26,\n         'pop': 26,\n         'wedding': 26,\n         'brother': 26,\n         'daughter': 26,\n         'b': 26,\n         'sync': 26,\n         'used': 26,\n         'listen': 26,\n         'smart': 26,\n         'imac': 26,\n         'italy': 26,\n         'away': 26,\n         'ebay': 26,\n         'igdaily': 26,\n         'ugh': 26,\n         'map': 26,\n         'instalike': 26,\n         'cake': 26,\n         'instalove': 26,\n         'iphonecase': 26,\n         'pm': 26,\n         'uk': 25,\n         'eye': 25,\n         'gear': 25,\n         'dream': 25,\n         'whole': 25,\n         'fixed': 25,\n         'super': 25,\n         'order': 25,\n         'luxury': 25,\n         'looking': 25,\n         'vocation': 25,\n         'khaoko': 25,\n         'ilce': 25,\n         'htc': 25,\n         'psn': 25,\n         'flash': 25,\n         'isnt': 25,\n         'pie': 24,\n         'wallpaper': 24,\n         'instahub': 24,\n         'delete': 24,\n         'newyork': 24,\n         'memory': 24,\n         '–': 24,\n         'lifestyle': 24,\n         'photographer': 24,\n         'instagood…': 24,\n         'jj': 24,\n         'there': 24,\n         'city': 24,\n         'unitedstate': 24,\n         'guitarplayer': 24,\n         'garden': 24,\n         'emoji': 24,\n         'mother': 24,\n         'sonyphoto': 24,\n         'india': 24,\n         'playing': 24,\n         'japan': 24,\n         'yesterday': 24,\n         'applewatch': 24,\n         'idea': 24,\n         'mirror': 24,\n         'line': 24,\n         'entrepreneur': 24,\n         'e': 24,\n         'xperiaz': 23,\n         'inch': 23,\n         'blackandwhite': 23,\n         'instacool': 23,\n         '£': 23,\n         'sport': 23,\n         'annoying': 23,\n         'full': 23,\n         'bestoftheday': 23,\n         'send': 23,\n         'shotoniphone': 23,\n         'though': 23,\n         'makeup': 23,\n         'samsung…': 23,\n         'fit': 23,\n         'v': 23,\n         'photofeed': 23,\n         'drink': 23,\n         'charging': 23,\n         'charm': 23,\n         'wtf': 23,\n         'snapspeed…': 23,\n         'lot': 23,\n         'click': 23,\n         'fact': 22,\n         'end': 22,\n         'rock': 22,\n         'price': 22,\n         'keyboard': 22,\n         'usb': 22,\n         'taking': 22,\n         'icloud': 22,\n         'small': 22,\n         'orange': 22,\n         'reallyreal': 22,\n         'true': 22,\n         'jun': 22,\n         'nike': 22,\n         'went': 22,\n         'proud': 22,\n         'exquisite': 22,\n         'squishy': 22,\n         'strap': 22,\n         'ly': 22,\n         'saying': 22,\n         'tonight': 22,\n         'buying': 22,\n         'ootd': 21,\n         'film': 21,\n         'bit': 21,\n         'thought': 21,\n         'hand': 21,\n         'literally': 21,\n         'tattoo': 21,\n         'chocolate': 21,\n         'might': 21,\n         'f': 21,\n         'boyfriend': 21,\n         'almost': 21,\n         'rain': 21,\n         'dj': 21,\n         'tuesday': 21,\n         'forever': 21,\n         'post': 21,\n         'animal': 21,\n         'street': 21,\n         'samsunggalaxys': 20,\n         'dead': 20,\n         'truth': 20,\n         'ur': 20,\n         'set': 20,\n         'ipadmini': 20,\n         'tmobile': 20,\n         'prophet': 20,\n         'sick': 20,\n         'lens': 20,\n         'feed': 20,\n         'date': 20,\n         'learn': 20,\n         'youre': 20,\n         'fitness': 20,\n         'link': 20,\n         'tshirt': 20,\n         'data': 20,\n         'redbubble': 20,\n         'whats': 20,\n         'thankyou': 20,\n         'release': 20,\n         'latest': 20,\n         'console': 20,\n         'together': 20,\n         'decided': 20,\n         'believe': 20,\n         'facetime': 20,\n         'xmas': 20,\n         'daddy': 20,\n         'havent': 19,\n         'it’s': 19,\n         'wrong': 19,\n         'poem': 19,\n         'n': 19,\n         'min': 19,\n         'second': 19,\n         'half': 19,\n         'simple': 19,\n         'mm': 19,\n         'child': 19,\n         'goodnight': 19,\n         'april': 19,\n         'else': 19,\n         'future': 19,\n         'shitty': 19,\n         'different': 19,\n         'room': 19,\n         'men': 19,\n         'skin': 19,\n         'adorable': 19,\n         'winter': 19,\n         'foodporn': 19,\n         'canon': 19,\n         'yummy': 19,\n         'photobooth': 19,\n         'talk': 18,\n         'fucked': 18,\n         'crash': 18,\n         'market': 18,\n         'indonesia': 18,\n         'sorry': 18,\n         'magic': 18,\n         'issue': 18,\n         'repair': 18,\n         'fml': 18,\n         'past': 18,\n         'sonyalpha': 18,\n         'account': 18,\n         'high': 18,\n         'totally': 18,\n         'calendar': 18,\n         'team': 18,\n         'cause': 18,\n         'edge': 18,\n         'sonyphotos': 18,\n         'running': 18,\n         'mean': 18,\n         'hd': 18,\n         'unique': 18,\n         'mind': 18,\n         'miami': 18,\n         'glad': 18,\n         'unlocked': 18,\n         'sea': 18,\n         'guess': 18,\n         'sorority': 18,\n         'likeforlike': 17,\n         'purchase': 17,\n         'completely': 17,\n         'wall': 17,\n         'touch': 17,\n         'daily': 17,\n         'blackfriday': 17,\n         'creative': 17,\n         'special': 17,\n         'mood': 17,\n         'vaio': 17,\n         'fall': 17,\n         'upgraded': 17,\n         'throw': 17,\n         'passion': 17,\n         'sprint': 17,\n         'space': 17,\n         'delicious': 17,\n         'far': 17,\n         'experience': 17,\n         'al': 17,\n         'june': 17,\n         'canada': 17,\n         'sent': 17,\n         'march': 17,\n         'zeeland': 17,\n         'nikon': 17,\n         'applesucks': 17,\n         'king': 17,\n         'visit': 17,\n         'trump': 17,\n         'california': 17,\n         'slow': 17,\n         'cracked': 17,\n         'artist': 17,\n         'dance': 17,\n         'november': 17,\n         'shipping': 17,\n         'adventure': 17,\n         'stay': 17,\n         'digital': 17,\n         'internet': 17,\n         'rose': 17,\n         'patent': 16,\n         'landscape': 16,\n         'hashtag': 16,\n         'bright': 16,\n         'soul': 16,\n         'reset': 16,\n         'able': 16,\n         'earphone': 16,\n         'bug': 16,\n         'banana': 16,\n         'open': 16,\n         'stevejobs': 16,\n         'least': 16,\n         'evening': 16,\n         'ny': 16,\n         'angry': 16,\n         'bird': 16,\n         'gorgeous': 16,\n         'wanna': 16,\n         'europe': 16,\n         'inlove': 16,\n         'lte': 16,\n         'storage': 16,\n         'sunny': 16,\n         'left': 16,\n         'bestfriend': 16,\n         'reposting': 16,\n         'online': 16,\n         'fb': 16,\n         'chill': 16,\n         'drop': 16,\n         'phonecases': 16,\n         'bored': 16,\n         'type': 15,\n         'dropped': 15,\n         'goal': 15,\n         'cut': 15,\n         'shoot': 15,\n         'yum': 15,\n         'shot': 15,\n         'uae': 15,\n         'ipads': 15,\n         'purple': 15,\n         'mommy': 15,\n         'purpose': 15,\n         'paris': 15,\n         'silver': 15,\n         'load': 15,\n         'newtoy': 15,\n         'videogames': 15,\n         'bye': 15,\n         'wireless': 15,\n         'part': 15,\n         'gotta': 15,\n         'smartphones': 15,\n         'followfollow': 15,\n         'found': 15,\n         'colour': 15,\n         'longer': 15,\n         'snow': 15,\n         'gave': 15,\n         'vintage': 15,\n         'later': 15,\n         'january': 15,\n         'apple…': 15,\n         'ask': 15,\n         'question': 14,\n         'wife': 14,\n         'america': 14,\n         'bday': 14,\n         'bull': 14,\n         'producer': 14,\n         'lady': 14,\n         'iphonephotography': 14,\n         'original': 14,\n         'singer': 14,\n         'replaced': 14,\n         'chilling': 14,\n         'i’m': 14,\n         'quality': 14,\n         'mode': 14,\n         'rid': 14,\n         'level': 14,\n         'babe': 14,\n         'cold': 14,\n         'cry': 14,\n         'okay': 14,\n         'valentinesday': 14,\n         'february': 14,\n         'hi': 14,\n         'instaphoto': 14,\n         'middle': 14,\n         'info': 14,\n         'playlist': 14,\n         'bot': 14,\n         'drive': 14,\n         'event': 14,\n         'wouldnt': 14,\n         'dress': 14,\n         'speaker': 14,\n         'unlock': 14,\n         'answer': 14,\n         'tried': 14,\n         'anymore': 14,\n         'cell': 14,\n         'sticker': 14,\n         'vscocam': 14,\n         'library': 14,\n         'tired': 14,\n         'genius': 14,\n         'useless': 14,\n         'starbucks': 14,\n         'tag': 14,\n         'dinner': 14,\n         'ordered': 14,\n         'spent': 14,\n         'bring': 14,\n         'vacation': 14,\n         'tip': 14,\n         'merry': 14,\n         'stuck': 14,\n         'blow': 14,\n         'blogger': 14,\n         'stand': 14,\n         'asshole': 14,\n         'wonderful': 14,\n         'inspiration': 14,\n         'office': 14,\n         'self': 14,\n         'save': 14,\n         'aliusaexpress': 14,\n         'mi': 14,\n         'bed': 14,\n         'die': 14,\n         'photograph': 14,\n         'goodbye': 14,\n         'breakfast': 14,\n         'shoppinglist': 14,\n         'xd': 14,\n         'dessert': 14,\n         'led': 14,\n         'million': 13,\n         'freaking': 13,\n         'view': 13,\n         'complete': 13,\n         'samsunggalaxy': 13,\n         'cd': 13,\n         'nowplaying': 13,\n         'added': 13,\n         'bar': 13,\n         'key': 13,\n         'display': 13,\n         'told': 13,\n         'three': 13,\n         'colorful': 13,\n         'zoom': 13,\n         'system': 13,\n         'goodmorning': 13,\n         'mad': 13,\n         'marketing': 13,\n         'thx': 13,\n         'stock': 13,\n         'wasnt': 13,\n         'track': 13,\n         'finger': 13,\n         'da': 13,\n         'appletv': 13,\n         'deleting': 13,\n         'bluetooth': 13,\n         'samsungmobile': 13,\n         'social': 13,\n         'explore': 13,\n         'piano': 13,\n         'happened': 13,\n         'q': 13,\n         'collection': 13,\n         'planet': 13,\n         'choose': 13,\n         'thankful': 13,\n         'read': 13,\n         'till': 13,\n         'worse': 13,\n         'review': 13,\n         'mail': 13,\n         'webstagram': 13,\n         'forgot': 13,\n         'huge': 13,\n         'weather': 13,\n         'place': 13,\n         'trend': 13,\n         'applesupport': 13,\n         'spotify': 13,\n         'followtrick': 13,\n         'error': 13,\n         'mp': 13,\n         'replace': 13,\n         'listening': 12,\n         'agree': 12,\n         'easter': 12,\n         'subscribe': 12,\n         'instagram…': 12,\n         'friendship': 12,\n         'droid': 12,\n         'l': 12,\n         'tea': 12,\n         'lip': 12,\n         'girlfriend': 12,\n         'park': 12,\n         'spend': 12,\n         'candy': 12,\n         'son': 12,\n         'ad': 12,\n         'yall': 12,\n         'reading': 12,\n         'edm': 12,\n         'nx': 12,\n         'rolling': 12,\n         'socialmedia': 12,\n         'easy': 12,\n         'backup': 12,\n         'block': 12,\n         'jailbreak': 12,\n         'bc': 12,\n         'applestore': 12,\n         'humanity': 12,\n         'blonde': 12,\n         'lion': 12,\n         'cousin': 12,\n         'cuz': 12,\n         'crashing': 12,\n         ...})"
     },
     "execution_count": 36,
     "metadata": {},
     "output_type": "execute_result"
    }
   ],
   "source": [
    "vocabulary"
   ],
   "metadata": {
    "collapsed": false,
    "ExecuteTime": {
     "end_time": "2024-03-07T17:01:36.396079500Z",
     "start_time": "2024-03-07T17:01:36.150015300Z"
    }
   },
   "id": "613655d93c780528",
   "execution_count": 36
  },
  {
   "cell_type": "code",
   "outputs": [
    {
     "data": {
      "text/plain": "(7920, 3)"
     },
     "execution_count": 37,
     "metadata": {},
     "output_type": "execute_result"
    }
   ],
   "source": [
    "data.shape"
   ],
   "metadata": {
    "collapsed": false,
    "ExecuteTime": {
     "end_time": "2024-03-07T17:01:36.504617Z",
     "start_time": "2024-03-07T17:01:36.168013200Z"
    }
   },
   "id": "7e9204c22cdee340",
   "execution_count": 37
  },
  {
   "cell_type": "code",
   "outputs": [],
   "source": [
    "tokens = [word for word in vocabulary if vocabulary[word] > 10]"
   ],
   "metadata": {
    "collapsed": false,
    "ExecuteTime": {
     "end_time": "2024-03-07T17:01:36.508613600Z",
     "start_time": "2024-03-07T17:01:36.185014500Z"
    }
   },
   "id": "378fc8117d58a2f6",
   "execution_count": 38
  },
  {
   "cell_type": "code",
   "outputs": [
    {
     "data": {
      "text/plain": "1124"
     },
     "execution_count": 39,
     "metadata": {},
     "output_type": "execute_result"
    }
   ],
   "source": [
    "len(tokens)"
   ],
   "metadata": {
    "collapsed": false,
    "ExecuteTime": {
     "end_time": "2024-03-07T17:01:36.528630100Z",
     "start_time": "2024-03-07T17:01:36.197017Z"
    }
   },
   "id": "2a503f4b1d92cee5",
   "execution_count": 39
  },
  {
   "cell_type": "code",
   "outputs": [],
   "source": [
    "def save_vocabulary(vocab, filename):\n",
    "    data = \"\\n\".join(vocab)\n",
    "    file = open(filename, 'w', encoding='utf-8')\n",
    "    file.write(data)\n",
    "    file.close()\n",
    "\n",
    "save_vocabulary(tokens, \"./../static/vocabulary.txt\")"
   ],
   "metadata": {
    "collapsed": false,
    "ExecuteTime": {
     "end_time": "2024-03-07T17:01:36.532148Z",
     "start_time": "2024-03-07T17:01:36.216022400Z"
    }
   },
   "id": "2c6ebaeb0a540fcd",
   "execution_count": 40
  },
  {
   "cell_type": "markdown",
   "source": [
    "# Vectorizing"
   ],
   "metadata": {
    "collapsed": false
   },
   "id": "f0d21f176f3e93dc"
  },
  {
   "cell_type": "code",
   "outputs": [],
   "source": [
    "from sklearn.model_selection import train_test_split"
   ],
   "metadata": {
    "collapsed": false,
    "ExecuteTime": {
     "end_time": "2024-03-07T17:01:36.544160100Z",
     "start_time": "2024-03-07T17:01:36.230550200Z"
    }
   },
   "id": "57337069bc137a9",
   "execution_count": 41
  },
  {
   "cell_type": "code",
   "outputs": [],
   "source": [
    "x = data[\"tweet\"]\n",
    "y = data[\"label\"]"
   ],
   "metadata": {
    "collapsed": false,
    "ExecuteTime": {
     "end_time": "2024-03-07T17:01:36.733214100Z",
     "start_time": "2024-03-07T17:01:36.243548800Z"
    }
   },
   "id": "6d4cd21b802229bc",
   "execution_count": 42
  },
  {
   "cell_type": "code",
   "outputs": [],
   "source": [
    "x_train, x_test, y_train, y_test = train_test_split(x, y, test_size=0.2)"
   ],
   "metadata": {
    "collapsed": false,
    "ExecuteTime": {
     "end_time": "2024-03-07T17:01:36.738221300Z",
     "start_time": "2024-03-07T17:01:36.261550600Z"
    }
   },
   "id": "a979e4128611f930",
   "execution_count": 43
  },
  {
   "cell_type": "code",
   "outputs": [],
   "source": [
    "def vectorize(dataset, vocabulary):\n",
    "    vectors = []\n",
    "    for tweet in dataset:\n",
    "        text = np.zeros(len(vocabulary))\n",
    "        \n",
    "        words = tweet.split()\n",
    "        for i in range(len(vocabulary)):\n",
    "            if vocabulary[i] in words:\n",
    "                text[i] = 1\n",
    "        \n",
    "        vectors.append(text)\n",
    "    vectorized_list = np.array(vectors, dtype=np.float32)\n",
    "    return vectorized_list\n",
    "                "
   ],
   "metadata": {
    "collapsed": false,
    "ExecuteTime": {
     "end_time": "2024-03-07T17:01:36.782219800Z",
     "start_time": "2024-03-07T17:01:36.279547700Z"
    }
   },
   "id": "f5291f9a52bd9a4e",
   "execution_count": 44
  },
  {
   "cell_type": "code",
   "outputs": [],
   "source": [
    "x_train_vectorized = vectorize(x_train, tokens)"
   ],
   "metadata": {
    "collapsed": false,
    "ExecuteTime": {
     "end_time": "2024-03-07T17:01:40.299294600Z",
     "start_time": "2024-03-07T17:01:36.292549600Z"
    }
   },
   "id": "2cc27afa5a16edc2",
   "execution_count": 45
  },
  {
   "cell_type": "code",
   "outputs": [
    {
     "data": {
      "text/plain": "array([[0., 0., 0., ..., 0., 0., 0.],\n       [0., 0., 0., ..., 0., 0., 0.],\n       [0., 0., 0., ..., 0., 0., 0.],\n       ...,\n       [0., 0., 0., ..., 0., 0., 0.],\n       [0., 0., 0., ..., 0., 0., 0.],\n       [0., 0., 0., ..., 0., 0., 0.]], dtype=float32)"
     },
     "execution_count": 46,
     "metadata": {},
     "output_type": "execute_result"
    }
   ],
   "source": [
    "x_train_vectorized"
   ],
   "metadata": {
    "collapsed": false,
    "ExecuteTime": {
     "end_time": "2024-03-07T17:01:40.335826300Z",
     "start_time": "2024-03-07T17:01:40.303290600Z"
    }
   },
   "id": "950e550fff81e7e0",
   "execution_count": 46
  },
  {
   "cell_type": "code",
   "outputs": [],
   "source": [
    "x_test_vectorized = vectorize(x_test, tokens)"
   ],
   "metadata": {
    "collapsed": false,
    "ExecuteTime": {
     "end_time": "2024-03-07T17:01:41.486614700Z",
     "start_time": "2024-03-07T17:01:40.317307Z"
    }
   },
   "id": "4e8650e486a26fe4",
   "execution_count": 47
  },
  {
   "cell_type": "code",
   "outputs": [
    {
     "data": {
      "text/plain": "array([[0., 0., 0., ..., 0., 0., 0.],\n       [0., 0., 0., ..., 0., 0., 0.],\n       [0., 0., 0., ..., 0., 0., 0.],\n       ...,\n       [0., 0., 0., ..., 0., 0., 0.],\n       [0., 0., 0., ..., 0., 0., 0.],\n       [0., 0., 0., ..., 0., 0., 0.]], dtype=float32)"
     },
     "execution_count": 48,
     "metadata": {},
     "output_type": "execute_result"
    }
   ],
   "source": [
    "x_test_vectorized"
   ],
   "metadata": {
    "collapsed": false,
    "ExecuteTime": {
     "end_time": "2024-03-07T17:01:41.610156100Z",
     "start_time": "2024-03-07T17:01:41.484616500Z"
    }
   },
   "id": "22dfe14b8d3d8829",
   "execution_count": 48
  },
  {
   "cell_type": "code",
   "outputs": [
    {
     "data": {
      "text/plain": "label\n0    4724\n1    1612\nName: count, dtype: int64"
     },
     "execution_count": 49,
     "metadata": {},
     "output_type": "execute_result"
    }
   ],
   "source": [
    "y_train.value_counts()"
   ],
   "metadata": {
    "collapsed": false,
    "ExecuteTime": {
     "end_time": "2024-03-07T17:01:41.667697800Z",
     "start_time": "2024-03-07T17:01:41.524627Z"
    }
   },
   "id": "b75bb8c30bc48ccf",
   "execution_count": 49
  },
  {
   "cell_type": "code",
   "outputs": [
    {
     "name": "stdout",
     "output_type": "stream",
     "text": [
      "(9448, 1124) (9448,)\n"
     ]
    }
   ],
   "source": [
    "from imblearn.over_sampling import SMOTE\n",
    "smote = SMOTE()\n",
    "vectorized_x_train_smote, y_train_smote = smote.fit_resample(x_train_vectorized, y_train)\n",
    "print(vectorized_x_train_smote.shape, y_train_smote.shape)"
   ],
   "metadata": {
    "collapsed": false,
    "ExecuteTime": {
     "end_time": "2024-03-07T17:01:42.847196700Z",
     "start_time": "2024-03-07T17:01:41.554157400Z"
    }
   },
   "id": "6d0bf60e81d56036",
   "execution_count": 50
  },
  {
   "cell_type": "code",
   "outputs": [],
   "source": [
    "from sklearn.tree import DecisionTreeClassifier\n",
    "from sklearn.linear_model import LogisticRegression\n",
    "from sklearn.naive_bayes import MultinomialNB\n",
    "from sklearn.ensemble import RandomForestClassifier\n",
    "from sklearn.svm import SVC"
   ],
   "metadata": {
    "collapsed": false,
    "ExecuteTime": {
     "end_time": "2024-03-07T17:01:42.930213900Z",
     "start_time": "2024-03-07T17:01:42.848199600Z"
    }
   },
   "id": "1f49dcded637c787",
   "execution_count": 51
  },
  {
   "cell_type": "code",
   "outputs": [],
   "source": [
    "from sklearn.metrics import accuracy_score, f1_score, precision_score, recall_score\n",
    "\n",
    "def training_scores(y_act, y_pred):\n",
    "    acc = round(accuracy_score(y_act, y_pred), 3)\n",
    "    pr = round(precision_score(y_act, y_pred), 3)\n",
    "    rec = round(recall_score(y_act, y_pred), 3)\n",
    "    f1 = round(f1_score(y_act, y_pred), 3)\n",
    "    print(f'Training Scores:\\n\\tAccuracy = {acc}\\n\\tPrecision = {pr}\\n\\tRecall = {rec}\\n\\tF1-Score = {f1}')\n",
    "    \n",
    "def validation_scores(y_act, y_pred):\n",
    "    acc = round(accuracy_score(y_act, y_pred), 3)\n",
    "    pr = round(precision_score(y_act, y_pred), 3)\n",
    "    rec = round(recall_score(y_act, y_pred), 3)\n",
    "    f1 = round(f1_score(y_act, y_pred), 3)\n",
    "    print(f'Testing Scores:\\n\\tAccuracy = {acc}\\n\\tPrecision = {pr}\\n\\tRecall = {rec}\\n\\tF1-Score = {f1}')"
   ],
   "metadata": {
    "collapsed": false,
    "ExecuteTime": {
     "end_time": "2024-03-07T17:01:43.102305700Z",
     "start_time": "2024-03-07T17:01:42.866197500Z"
    }
   },
   "id": "e32cee929d7beb83",
   "execution_count": 52
  },
  {
   "cell_type": "code",
   "outputs": [
    {
     "name": "stdout",
     "output_type": "stream",
     "text": [
      "Training Scores:\n",
      "\tAccuracy = 0.942\n",
      "\tPrecision = 0.917\n",
      "\tRecall = 0.973\n",
      "\tF1-Score = 0.944\n",
      "Testing Scores:\n",
      "\tAccuracy = 0.852\n",
      "\tPrecision = 0.681\n",
      "\tRecall = 0.819\n",
      "\tF1-Score = 0.743\n"
     ]
    }
   ],
   "source": [
    "lr = LogisticRegression()\n",
    "lr.fit(vectorized_x_train_smote, y_train_smote)\n",
    "\n",
    "y_train_pred = lr.predict(vectorized_x_train_smote)\n",
    "\n",
    "y_test_pred = lr.predict(x_test_vectorized)\n",
    "\n",
    "training_scores(y_train_smote, y_train_pred)\n",
    "\n",
    "validation_scores(y_test, y_test_pred)"
   ],
   "metadata": {
    "collapsed": false,
    "ExecuteTime": {
     "end_time": "2024-03-07T17:01:43.801136100Z",
     "start_time": "2024-03-07T17:01:42.904198800Z"
    }
   },
   "id": "5f12fb7f385d8034",
   "execution_count": 53
  },
  {
   "cell_type": "code",
   "outputs": [
    {
     "name": "stdout",
     "output_type": "stream",
     "text": [
      "Training Scores:\n",
      "\tAccuracy = 0.905\n",
      "\tPrecision = 0.869\n",
      "\tRecall = 0.955\n",
      "\tF1-Score = 0.91\n",
      "Testing Scores:\n",
      "\tAccuracy = 0.852\n",
      "\tPrecision = 0.655\n",
      "\tRecall = 0.92\n",
      "\tF1-Score = 0.765\n"
     ]
    }
   ],
   "source": [
    "mnb = MultinomialNB()\n",
    "mnb.fit(vectorized_x_train_smote, y_train_smote)\n",
    "\n",
    "y_train_pred = mnb.predict(vectorized_x_train_smote)\n",
    "\n",
    "y_test_pred = mnb.predict(x_test_vectorized)\n",
    "\n",
    "training_scores(y_train_smote, y_train_pred)\n",
    "\n",
    "validation_scores(y_test, y_test_pred)"
   ],
   "metadata": {
    "collapsed": false,
    "ExecuteTime": {
     "end_time": "2024-03-07T17:01:44.602441300Z",
     "start_time": "2024-03-07T17:01:43.785133800Z"
    }
   },
   "id": "4c0a4c28f1266aeb",
   "execution_count": 54
  },
  {
   "cell_type": "code",
   "outputs": [
    {
     "name": "stdout",
     "output_type": "stream",
     "text": [
      "Training Scores:\n",
      "\tAccuracy = 0.999\n",
      "\tPrecision = 1.0\n",
      "\tRecall = 0.999\n",
      "\tF1-Score = 0.999\n",
      "Testing Scores:\n",
      "\tAccuracy = 0.813\n",
      "\tPrecision = 0.646\n",
      "\tRecall = 0.63\n",
      "\tF1-Score = 0.638\n"
     ]
    }
   ],
   "source": [
    "dt = DecisionTreeClassifier()\n",
    "\n",
    "dt.fit(vectorized_x_train_smote, y_train_smote)\n",
    "\n",
    "y_train_pred = dt.predict(vectorized_x_train_smote)\n",
    "\n",
    "y_test_pred = dt.predict(x_test_vectorized)\n",
    "\n",
    "training_scores(y_train_smote, y_train_pred)\n",
    "\n",
    "validation_scores(y_test, y_test_pred)"
   ],
   "metadata": {
    "collapsed": false,
    "ExecuteTime": {
     "end_time": "2024-03-07T17:01:54.945432400Z",
     "start_time": "2024-03-07T17:01:44.591440600Z"
    }
   },
   "id": "d0d95a66cbf6b34d",
   "execution_count": 55
  },
  {
   "cell_type": "code",
   "outputs": [
    {
     "name": "stdout",
     "output_type": "stream",
     "text": [
      "Training Scores:\n",
      "\tAccuracy = 0.999\n",
      "\tPrecision = 0.999\n",
      "\tRecall = 0.999\n",
      "\tF1-Score = 0.999\n",
      "Testing Scores:\n",
      "\tAccuracy = 0.846\n",
      "\tPrecision = 0.716\n",
      "\tRecall = 0.681\n",
      "\tF1-Score = 0.698\n"
     ]
    }
   ],
   "source": [
    "rf = RandomForestClassifier()\n",
    "\n",
    "rf.fit(vectorized_x_train_smote, y_train_smote)\n",
    "\n",
    "y_train_pred = rf.predict(vectorized_x_train_smote)\n",
    "\n",
    "y_test_pred = rf.predict(x_test_vectorized)\n",
    "\n",
    "training_scores(y_train_smote, y_train_pred)\n",
    "\n",
    "validation_scores(y_test, y_test_pred)"
   ],
   "metadata": {
    "collapsed": false,
    "ExecuteTime": {
     "end_time": "2024-03-07T17:02:11.602997700Z",
     "start_time": "2024-03-07T17:01:54.950436900Z"
    }
   },
   "id": "220bbcc075e93347",
   "execution_count": 56
  },
  {
   "cell_type": "code",
   "outputs": [],
   "source": [
    "import pickle\n",
    "\n",
    "with open('./../static/model/model.pickle', 'wb') as file:\n",
    "    pickle.dump(lr, file)"
   ],
   "metadata": {
    "collapsed": false,
    "ExecuteTime": {
     "end_time": "2024-03-07T17:08:22.679652800Z",
     "start_time": "2024-03-07T17:08:22.521725400Z"
    }
   },
   "id": "2b44d056ac72c48b",
   "execution_count": 59
  },
  {
   "cell_type": "code",
   "outputs": [],
   "source": [],
   "metadata": {
    "collapsed": false
   },
   "id": "ac2ef6eb45cf340a"
  }
 ],
 "metadata": {
  "kernelspec": {
   "display_name": "Python 3",
   "language": "python",
   "name": "python3"
  },
  "language_info": {
   "codemirror_mode": {
    "name": "ipython",
    "version": 2
   },
   "file_extension": ".py",
   "mimetype": "text/x-python",
   "name": "python",
   "nbconvert_exporter": "python",
   "pygments_lexer": "ipython2",
   "version": "2.7.6"
  }
 },
 "nbformat": 4,
 "nbformat_minor": 5
}
